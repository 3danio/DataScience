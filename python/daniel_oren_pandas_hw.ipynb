{
 "cells": [
  {
   "cell_type": "code",
   "execution_count": 401,
   "metadata": {},
   "outputs": [],
   "source": [
    "import numpy as np\n",
    "import matplotlib.pyplot as plt\n",
    "import seaborn as sns\n",
    "import pandas as pd"
   ]
  },
  {
   "cell_type": "code",
   "execution_count": 4,
   "metadata": {},
   "outputs": [],
   "source": [
    "import pyodbc\n",
    "conn = pyodbc.connect(\"Driver={SQL Server Native Client 11.0};\"\n",
    "                      \"Server=LAPTOP-OOBA2U3O\\SQLEXPRESS;\"\n",
    "                      \"Database=CollegeDB;\"\n",
    "                      \"Trusted_Connection=yes;\")"
   ]
  },
  {
   "cell_type": "code",
   "execution_count": 194,
   "metadata": {},
   "outputs": [],
   "source": [
    "students = pd.read_sql('SELECT * FROM Students', conn)\n",
    "courses = pd.read_sql('SELECT * FROM Courses', conn)\n",
    "classrooms = pd.read_sql('SELECT * FROM Classrooms', conn)\n",
    "departments = pd.read_sql('SELECT * FROM Departments', conn)\n",
    "teachers = pd.read_sql('SELECT * FROM Teachers', conn)"
   ]
  },
  {
   "cell_type": "code",
   "execution_count": 515,
   "metadata": {},
   "outputs": [],
   "source": [
    "courses_departments = pd.merge(courses, departments, how='inner', left_on='DepartmentID', right_on='DepartmentId')\n",
    "courses_departments_classrooms = pd.merge(courses_departments, classrooms, how='inner', on='CourseId')\n",
    "\n",
    "courses_classrooms = pd.merge(courses, classrooms, how='inner', on='CourseId')\n",
    "students_courses_classrooms = pd.merge(students, courses_classrooms, how='inner', on='StudentId')\n",
    "\n",
    "teachers_courses_classrooms = pd.merge(teachers, courses_classrooms, how='inner', on='TeacherId')\n",
    "\n",
    "teachers_courses_departments_classrooms = pd.merge(teachers, courses_departments_classrooms, how='inner', on='TeacherId')\n",
    "\n",
    "classrooms_students_L = pd.merge(classrooms, students, how='left', on='StudentId')\n",
    "classrooms_students_courses_L = pd.merge(classrooms_students_L, courses, how='left', on='CourseId')\n",
    "\n",
    "classrooms_students_courses_departments_L = pd.merge(classrooms_students_courses_L, departments, how='left', left_on='DepartmentID', right_on='DepartmentId')"
   ]
  },
  {
   "cell_type": "code",
   "execution_count": 525,
   "metadata": {},
   "outputs": [
    {
     "name": "stdout",
     "output_type": "stream",
     "text": [
      "                students\n",
      "DepartmentName          \n",
      "Arts                 137\n",
      "English               84\n",
      "Science              200\n",
      "Sport                 81\n"
     ]
    }
   ],
   "source": [
    "# ---- 2a. Number of students by Department\n",
    "\n",
    "courses_departments_classrooms\n",
    "\n",
    "df_departments_students_no = courses_departments_classrooms.groupby('DepartmentName').agg({'StudentId':'nunique'})\n",
    "\n",
    "df_departments_students_no.rename(columns={'StudentId':'students'}, inplace=True)\n",
    "\n",
    "print (df_departments_students_no)"
   ]
  },
  {
   "cell_type": "code",
   "execution_count": 526,
   "metadata": {},
   "outputs": [
    {
     "name": "stdout",
     "output_type": "stream",
     "text": [
      "                      students\n",
      "CourseName                    \n",
      "Advanced English            24\n",
      "English Begginers           32\n",
      "Proffesional English        38\n",
      "Total                       84\n"
     ]
    }
   ],
   "source": [
    "# ---- 2b. How many studenst has the English teacher by course and in total?\n",
    "courses_departments_classrooms\n",
    "\n",
    "df_english_courses_departments_classrooms = courses_departments_classrooms[courses_departments_classrooms['DepartmentId'] == 1]\n",
    "df_english_courses_students_no = df_english_courses_departments_classrooms.groupby('CourseName').agg({'StudentId':'nunique'})\n",
    "\n",
    "v_total_english_students = df_english_courses_departments_classrooms.agg({'StudentId':'nunique'}).astype(int)\n",
    "\n",
    "df_english_courses_students_no.loc['Total']= v_total_english_students\n",
    "\n",
    "df_english_courses_students_no.rename(columns={'StudentId':'students'}, inplace=True)\n",
    "\n",
    "print(df_english_courses_students_no)"
   ]
  },
  {
   "cell_type": "code",
   "execution_count": 527,
   "metadata": {},
   "outputs": [
    {
     "name": "stdout",
     "output_type": "stream",
     "text": [
      "                  num_classrooms\n",
      "classroom_size                  \n",
      "Big classrooms                10\n",
      "Small classrooms               6\n"
     ]
    }
   ],
   "source": [
    "# ---- 2c. How many small (<22) and bigger (>=22) Classrooms has the Science Department?\n",
    "\n",
    "courses_departments_classrooms\n",
    "\n",
    "df_science_courses_departments_classrooms = courses_departments_classrooms[courses_departments_classrooms['DepartmentID'] == 2]\n",
    "\n",
    "df_science_courses_students_no = df_science_courses_departments_classrooms.groupby('CourseName').agg({'StudentId':'nunique'})\n",
    "\n",
    "df_science_courses_students_no['classroom_size'] = np.NaN\n",
    "\n",
    "df_science_courses_students_no.loc[(df_science_courses_students_no['StudentId'] < 22), 'classroom_size'] = 'Small classrooms'\n",
    "df_science_courses_students_no.loc[(df_science_courses_students_no['StudentId'] >= 22), 'classroom_size'] = 'Big classrooms'\n",
    "\n",
    "df_classrooms_no_per_size = df_science_courses_students_no.groupby('classroom_size').agg({'StudentId': 'count'})\n",
    "\n",
    "df_classrooms_no_per_size.rename(columns={'StudentId':'num_classrooms'}, inplace=True)\n",
    "\n",
    "print(df_classrooms_no_per_size)"
   ]
  },
  {
   "cell_type": "code",
   "execution_count": 541,
   "metadata": {},
   "outputs": [
    {
     "name": "stdout",
     "output_type": "stream",
     "text": [
      "        num_students\n",
      "Gender              \n",
      "F                165\n",
      "M                115\n"
     ]
    }
   ],
   "source": [
    "# ---- 2d. How many students are by Gender?\n",
    "\n",
    "df_students_by_gender = students.groupby('Gender').agg({'StudentId':'nunique'})\n",
    "df_students_by_gender.rename(columns={'StudentId':'num_students'}, inplace=True)\n",
    "\n",
    "print(df_students_by_gender)"
   ]
  },
  {
   "cell_type": "code",
   "execution_count": 529,
   "metadata": {},
   "outputs": [
    {
     "name": "stdout",
     "output_type": "stream",
     "text": [
      "            Male  Female      ratio\n",
      "CourseName                         \n",
      "Sculpture      7      17  70.833333\n",
      "Tenis          5      13  72.222222\n"
     ]
    }
   ],
   "source": [
    "# ---- 2e. In which courses the percentage of males / females are higher than 70% ?\n",
    "\n",
    "students_courses_classrooms['Male'] = 0\n",
    "students_courses_classrooms['Female'] = 0\n",
    "\n",
    "students_courses_classrooms.loc[(students_courses_classrooms['Gender'] == 'M'), 'Male'] = 1\n",
    "students_courses_classrooms.loc[(students_courses_classrooms['Gender'] == 'F'), 'Female'] = 1\n",
    "\n",
    "courses_gender_no = students_courses_classrooms.groupby('CourseName').agg({'Male':sum, 'Female':sum})\n",
    "\n",
    "courses_gender_no['ratio'] = courses_gender_no['Female'] / (courses_gender_no['Male'] + courses_gender_no['Female']) * 100\n",
    "\n",
    "print(courses_gender_no[courses_gender_no['ratio'] > 70])"
   ]
  },
  {
   "cell_type": "code",
   "execution_count": 531,
   "metadata": {},
   "outputs": [
    {
     "name": "stdout",
     "output_type": "stream",
     "text": [
      "                students_80  total_students  students_80_pct\n",
      "DepartmentName                                              \n",
      "Arts                     61             137           44.526\n",
      "English                  40              84           47.619\n",
      "Science                 122             200           61.000\n",
      "Sport                    39              81           48.148\n"
     ]
    }
   ],
   "source": [
    "# ---- 2f. getting the number of students with at least one degree with more than 80 per department\n",
    "\n",
    "courses_departments_classrooms_f = courses_departments_classrooms.copy()\n",
    "\n",
    "courses_departments_classrooms_f['students_80'] = np.NaN\n",
    "\n",
    "courses_departments_classrooms_f.loc[(courses_departments_classrooms_f['degree'] > 80), 'students_80'] = courses_departments_classrooms_f['StudentId']\n",
    "\n",
    "departments_grades = courses_departments_classrooms_f.groupby('DepartmentName').agg({'students_80':'nunique', 'StudentId':'nunique'})\n",
    "\n",
    "departments_grades.rename(columns={'StudentId':'total_students'}, inplace=True)\n",
    "\n",
    "departments_grades['students_80_pct'] = departments_grades['students_80'] / departments_grades['total_students'] * 100\n",
    "\n",
    "print(departments_grades.round(3))"
   ]
  },
  {
   "cell_type": "code",
   "execution_count": 533,
   "metadata": {},
   "outputs": [
    {
     "name": "stdout",
     "output_type": "stream",
     "text": [
      "                students_60  total_students  students_60_pct\n",
      "DepartmentName                                              \n",
      "Arts                      3             137            2.190\n",
      "English                   2              84            2.381\n",
      "Science                   7             200            3.500\n",
      "Sport                     1              81            1.235\n"
     ]
    }
   ],
   "source": [
    "# ---- 2g. How many students (n and %) have a degree lower than 60 by Department?\n",
    "\n",
    "courses_departments_classrooms_g = courses_departments_classrooms.copy()\n",
    "\n",
    "courses_departments_classrooms_g['students_60'] = np.NaN\n",
    "\n",
    "courses_departments_classrooms_g.loc[(courses_departments_classrooms_g['degree'] < 60), 'students_60'] = courses_departments_classrooms_g['StudentId']\n",
    "\n",
    "departments_grades = courses_departments_classrooms_g.groupby('DepartmentName').agg({'students_60':'nunique', 'StudentId':'nunique'})\n",
    "\n",
    "departments_grades.rename(columns={'StudentId':'total_students'}, inplace=True)\n",
    "\n",
    "departments_grades['students_60_pct'] = departments_grades['students_60'] / departments_grades['total_students'] * 100\n",
    "\n",
    "print(departments_grades.round(3))"
   ]
  },
  {
   "cell_type": "code",
   "execution_count": 534,
   "metadata": {},
   "outputs": [
    {
     "name": "stdout",
     "output_type": "stream",
     "text": [
      "                    degree\n",
      "Teacher                   \n",
      " Darick Hess        81.433\n",
      " Jordyn Baron       80.729\n",
      " Heather Metcalf    80.440\n",
      " Zachary Healy      79.366\n",
      " Kaylea Monzingo    79.366\n",
      " Daniel Bland       78.908\n",
      " Keegan Price       78.815\n",
      " Conor Mckittrick   78.699\n",
      " Maxwell Romkee     78.674\n",
      " Terran Beaty       78.495\n",
      " Tanner Fitzsimons  78.443\n",
      " Mackenzie Olsen    78.383\n",
      " Ernest Stoyanov    78.316\n",
      " Madison Batan      77.744\n",
      " Katerina Young     77.407\n",
      " Mikayla Russell    77.134\n",
      " Amanda Dworkin     76.900\n",
      " Kaitlin Delude     76.765\n",
      " Jeffrey Batzel     76.738\n",
      " Robert Aivazian    76.516\n",
      " Caroline Knuesel   75.955\n",
      " Alexander Watts    75.668\n"
     ]
    }
   ],
   "source": [
    "# ---- 2h Rate in descending order the teachers by their student's mean degree.\n",
    "teachers_courses_classrooms_h = teachers_courses_classrooms.copy()\n",
    "\n",
    "teachers_courses_classrooms_h['Teacher'] = teachers_courses_classrooms_h[['FirstName', 'LastName']].agg(' '.join, axis=1)\n",
    "\n",
    "#teachers_courses_classrooms_h.drop(['FirstName', 'LastName'], axis=1)\n",
    "\n",
    "teachers_degree = teachers_courses_classrooms_h.groupby('Teacher').agg({'degree':'mean'})\n",
    "\n",
    "print(teachers_degree.sort_values(\"degree\", ascending=False).round(3))"
   ]
  },
  {
   "cell_type": "code",
   "execution_count": 535,
   "metadata": {},
   "outputs": [
    {
     "name": "stdout",
     "output_type": "stream",
     "text": [
      "                                                                    StudentId\n",
      "CourseId CourseName           DepartmentName FirstName  LastName             \n",
      "1.0      English Begginers    English         Conor     Mckittrick         32\n",
      "2.0      Advanced English     English         Conor     Mckittrick         24\n",
      "3.0      Proffesional English English         Conor     Mckittrick         38\n",
      "4.0      Mathematics 101      Science         Amanda    Dworkin            18\n",
      "5.0      Matematics Advanced  Science         Alexander Watts              10\n",
      "6.0      Algebra              Science         Alexander Watts              12\n",
      "7.0      Geometry             Science         Alexander Watts              14\n",
      "8.0      Chemistry            Science         Jeffrey   Batzel             24\n",
      "9.0      Physics              Science         Alexander Watts              12\n",
      "10.0     Biology              Science         Jordyn    Baron              36\n",
      "11.0     Genetics             Science         Terran    Beaty              38\n",
      "12.0     Neurobiology         Science         Terran    Beaty              24\n",
      "13.0     Statistics           Science         Heather   Metcalf            24\n",
      "14.0     Computer Science     Science         Kaylea    Monzingo           38\n",
      "15.0     Data Science         Science         Mackenzie Olsen              30\n",
      "16.0     SQL                  Science         Zachary   Healy              24\n",
      "17.0     Python               Science         Terran    Beaty              24\n",
      "18.0     R                    Science         Tanner    Fitzsimons         34\n",
      "19.0     Java                 Science         Darick    Hess               16\n",
      "20.0     History of Arts      Arts            Caroline  Knuesel            32\n",
      "21.0     Painting             Arts            Katerina  Young              34\n",
      "22.0     Sculpture            Arts            Robert    Aivazian           24\n",
      "23.0     Musicology           Arts            Madison   Batan              30\n",
      "24.0     Theater              Arts            Ernest    Stoyanov           26\n",
      "25.0     Literature           Arts            Daniel    Bland              40\n",
      "27.0     Volleyball           Sport           Kaitlin   Delude             36\n",
      "29.0     Tenis                Sport           Keegan    Price              18\n",
      "30.0     Swimming             Sport           Mikayla   Russell            18\n",
      "31.0     Gymnastics           Sport           Maxwell   Romkee             24\n"
     ]
    }
   ],
   "source": [
    "# ---- 3a. Create a view that shows the courses, departments, teachers and number of students on each\n",
    "\n",
    "teachers_courses_departments_classrooms_3a = teachers_courses_departments_classrooms.copy()\n",
    "result = teachers_courses_departments_classrooms_3a.groupby(['CourseId', 'CourseName', 'DepartmentName', 'FirstName', 'LastName']).agg({'StudentId':'count'})\n",
    "\n",
    "print(result)"
   ]
  },
  {
   "cell_type": "code",
   "execution_count": 540,
   "metadata": {
    "scrolled": true
   },
   "outputs": [
    {
     "data": {
      "text/html": [
       "<div>\n",
       "<style scoped>\n",
       "    .dataframe tbody tr th:only-of-type {\n",
       "        vertical-align: middle;\n",
       "    }\n",
       "\n",
       "    .dataframe tbody tr th {\n",
       "        vertical-align: top;\n",
       "    }\n",
       "\n",
       "    .dataframe thead tr th {\n",
       "        text-align: left;\n",
       "    }\n",
       "\n",
       "    .dataframe thead tr:last-of-type th {\n",
       "        text-align: right;\n",
       "    }\n",
       "</style>\n",
       "<table border=\"1\" class=\"dataframe\">\n",
       "  <thead>\n",
       "    <tr>\n",
       "      <th></th>\n",
       "      <th></th>\n",
       "      <th></th>\n",
       "      <th colspan=\"4\" halign=\"left\">degree</th>\n",
       "      <th>General</th>\n",
       "      <th>courses</th>\n",
       "    </tr>\n",
       "    <tr>\n",
       "      <th></th>\n",
       "      <th></th>\n",
       "      <th>DepartmentName</th>\n",
       "      <th>Arts</th>\n",
       "      <th>English</th>\n",
       "      <th>Science</th>\n",
       "      <th>Sport</th>\n",
       "      <th></th>\n",
       "      <th></th>\n",
       "    </tr>\n",
       "    <tr>\n",
       "      <th>StudentId</th>\n",
       "      <th>FirstName</th>\n",
       "      <th>LastName</th>\n",
       "      <th></th>\n",
       "      <th></th>\n",
       "      <th></th>\n",
       "      <th></th>\n",
       "      <th></th>\n",
       "      <th></th>\n",
       "    </tr>\n",
       "  </thead>\n",
       "  <tbody>\n",
       "    <tr>\n",
       "      <th>1.0</th>\n",
       "      <th>Alexandria</th>\n",
       "      <th>Heller</th>\n",
       "      <td>86.678</td>\n",
       "      <td>NaN</td>\n",
       "      <td>79.558</td>\n",
       "      <td>NaN</td>\n",
       "      <td>81.338</td>\n",
       "      <td>4</td>\n",
       "    </tr>\n",
       "    <tr>\n",
       "      <th>2.0</th>\n",
       "      <th>Cassie</th>\n",
       "      <th>Liska</th>\n",
       "      <td>79.543</td>\n",
       "      <td>NaN</td>\n",
       "      <td>78.867</td>\n",
       "      <td>NaN</td>\n",
       "      <td>79.137</td>\n",
       "      <td>5</td>\n",
       "    </tr>\n",
       "    <tr>\n",
       "      <th>3.0</th>\n",
       "      <th>Hayley</th>\n",
       "      <th>Frank</th>\n",
       "      <td>NaN</td>\n",
       "      <td>83.972</td>\n",
       "      <td>76.204</td>\n",
       "      <td>NaN</td>\n",
       "      <td>78.794</td>\n",
       "      <td>3</td>\n",
       "    </tr>\n",
       "    <tr>\n",
       "      <th>4.0</th>\n",
       "      <th>Maxwell</th>\n",
       "      <th>Kotch</th>\n",
       "      <td>69.356</td>\n",
       "      <td>70.930</td>\n",
       "      <td>74.157</td>\n",
       "      <td>NaN</td>\n",
       "      <td>71.481</td>\n",
       "      <td>3</td>\n",
       "    </tr>\n",
       "    <tr>\n",
       "      <th>5.0</th>\n",
       "      <th>Dylan</th>\n",
       "      <th>Boehm</th>\n",
       "      <td>64.495</td>\n",
       "      <td>NaN</td>\n",
       "      <td>100.000</td>\n",
       "      <td>65.661</td>\n",
       "      <td>76.719</td>\n",
       "      <td>3</td>\n",
       "    </tr>\n",
       "    <tr>\n",
       "      <th>...</th>\n",
       "      <th>...</th>\n",
       "      <th>...</th>\n",
       "      <td>...</td>\n",
       "      <td>...</td>\n",
       "      <td>...</td>\n",
       "      <td>...</td>\n",
       "      <td>...</td>\n",
       "      <td>...</td>\n",
       "    </tr>\n",
       "    <tr>\n",
       "      <th>275.0</th>\n",
       "      <th>Elise</th>\n",
       "      <th>Ohler</th>\n",
       "      <td>94.703</td>\n",
       "      <td>71.617</td>\n",
       "      <td>80.897</td>\n",
       "      <td>NaN</td>\n",
       "      <td>82.029</td>\n",
       "      <td>4</td>\n",
       "    </tr>\n",
       "    <tr>\n",
       "      <th>276.0</th>\n",
       "      <th>Dylan</th>\n",
       "      <th>Bannister</th>\n",
       "      <td>NaN</td>\n",
       "      <td>NaN</td>\n",
       "      <td>76.785</td>\n",
       "      <td>NaN</td>\n",
       "      <td>76.785</td>\n",
       "      <td>3</td>\n",
       "    </tr>\n",
       "    <tr>\n",
       "      <th>277.0</th>\n",
       "      <th>Bryan</th>\n",
       "      <th>Medina</th>\n",
       "      <td>78.849</td>\n",
       "      <td>NaN</td>\n",
       "      <td>81.299</td>\n",
       "      <td>NaN</td>\n",
       "      <td>80.482</td>\n",
       "      <td>6</td>\n",
       "    </tr>\n",
       "    <tr>\n",
       "      <th>278.0</th>\n",
       "      <th>Sydney</th>\n",
       "      <th>Blas</th>\n",
       "      <td>NaN</td>\n",
       "      <td>NaN</td>\n",
       "      <td>72.578</td>\n",
       "      <td>76.750</td>\n",
       "      <td>75.359</td>\n",
       "      <td>3</td>\n",
       "    </tr>\n",
       "    <tr>\n",
       "      <th>280.0</th>\n",
       "      <th>Matthew</th>\n",
       "      <th>Mcgrath</th>\n",
       "      <td>77.238</td>\n",
       "      <td>NaN</td>\n",
       "      <td>75.697</td>\n",
       "      <td>NaN</td>\n",
       "      <td>76.621</td>\n",
       "      <td>5</td>\n",
       "    </tr>\n",
       "  </tbody>\n",
       "</table>\n",
       "<p>256 rows × 6 columns</p>\n",
       "</div>"
      ],
      "text/plain": [
       "                                 degree                          General  \\\n",
       "DepartmentName                     Arts English  Science   Sport           \n",
       "StudentId FirstName   LastName                                             \n",
       "1.0        Alexandria Heller     86.678     NaN   79.558     NaN  81.338   \n",
       "2.0        Cassie     Liska      79.543     NaN   78.867     NaN  79.137   \n",
       "3.0        Hayley     Frank         NaN  83.972   76.204     NaN  78.794   \n",
       "4.0        Maxwell    Kotch      69.356  70.930   74.157     NaN  71.481   \n",
       "5.0        Dylan      Boehm      64.495     NaN  100.000  65.661  76.719   \n",
       "...                                 ...     ...      ...     ...     ...   \n",
       "275.0      Elise      Ohler      94.703  71.617   80.897     NaN  82.029   \n",
       "276.0      Dylan      Bannister     NaN     NaN   76.785     NaN  76.785   \n",
       "277.0      Bryan      Medina     78.849     NaN   81.299     NaN  80.482   \n",
       "278.0      Sydney     Blas          NaN     NaN   72.578  76.750  75.359   \n",
       "280.0      Matthew    Mcgrath    77.238     NaN   75.697     NaN  76.621   \n",
       "\n",
       "                                courses  \n",
       "DepartmentName                           \n",
       "StudentId FirstName   LastName           \n",
       "1.0        Alexandria Heller          4  \n",
       "2.0        Cassie     Liska           5  \n",
       "3.0        Hayley     Frank           3  \n",
       "4.0        Maxwell    Kotch           3  \n",
       "5.0        Dylan      Boehm           3  \n",
       "...                                 ...  \n",
       "275.0      Elise      Ohler           4  \n",
       "276.0      Dylan      Bannister       3  \n",
       "277.0      Bryan      Medina          6  \n",
       "278.0      Sydney     Blas            3  \n",
       "280.0      Matthew    Mcgrath         5  \n",
       "\n",
       "[256 rows x 6 columns]"
      ]
     },
     "execution_count": 540,
     "metadata": {},
     "output_type": "execute_result"
    }
   ],
   "source": [
    "# ---- 3b. Create a view that shows each student, the number of courses taken, \n",
    "# ---- their mean degree by department and the total degree mean.\n",
    "\n",
    "classrooms_students_courses_departments_L_3b = classrooms_students_courses_departments_L.copy()\n",
    "\n",
    "general_degree_per_student = classrooms_students_courses_departments_L_3b.groupby('StudentId').agg({'degree':'mean'})\n",
    "\n",
    "#general_degree_per_student.sort_values(\"StudentId\", ascending=True)\n",
    "\n",
    "courses_number_per_student = classrooms_students_courses_departments_L_3b.groupby('StudentId').agg({'CourseId':'count'})\n",
    "\n",
    "degree_by_relevant_departments_per_student = classrooms_students_courses_departments_L_3b.groupby(['StudentId', 'FirstName',  'LastName', 'DepartmentName']).agg({'degree':'mean'})\n",
    "\n",
    "degree_by_all_departments_per_student = degree_by_relevant_departments_per_student.unstack(level=-1)\n",
    "\n",
    "degree_by_all_departments_per_student['General'] = general_degree_per_student.values\n",
    "degree_by_all_departments_per_student['courses'] = courses_number_per_student.values\n",
    "\n",
    "degree_by_all_departments_per_student.round(3)\n",
    "\n",
    "\n"
   ]
  }
 ],
 "metadata": {
  "kernelspec": {
   "display_name": "Python 3",
   "language": "python",
   "name": "python3"
  },
  "language_info": {
   "codemirror_mode": {
    "name": "ipython",
    "version": 3
   },
   "file_extension": ".py",
   "mimetype": "text/x-python",
   "name": "python",
   "nbconvert_exporter": "python",
   "pygments_lexer": "ipython3",
   "version": "3.7.7"
  }
 },
 "nbformat": 4,
 "nbformat_minor": 4
}
